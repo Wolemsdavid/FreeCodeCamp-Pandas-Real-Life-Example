{
  "cells": [
    {
      "cell_type": "markdown",
      "metadata": {
        "id": "view-in-github",
        "colab_type": "text"
      },
      "source": [
        "<a href=\"https://colab.research.google.com/github/Wolemsdavid/FreeCodeCamp-Pandas-Real-Life-Example/blob/master/Week_6_Lab_5.ipynb\" target=\"_parent\"><img src=\"https://colab.research.google.com/assets/colab-badge.svg\" alt=\"Open In Colab\"/></a>"
      ]
    },
    {
      "cell_type": "code",
      "execution_count": null,
      "id": "4f813a3c",
      "metadata": {
        "id": "4f813a3c"
      },
      "outputs": [],
      "source": [
        "import math"
      ]
    },
    {
      "cell_type": "code",
      "source": [],
      "metadata": {
        "id": "xQW2SXWxdjAQ"
      },
      "id": "xQW2SXWxdjAQ",
      "execution_count": null,
      "outputs": []
    },
    {
      "cell_type": "code",
      "execution_count": null,
      "id": "e7a69849",
      "metadata": {
        "id": "e7a69849"
      },
      "outputs": [],
      "source": [
        "class Circle:\n",
        "    def __init__(self,radius = 10):\n",
        "        self.__radius = radius\n",
        "    def computeArea(self):\n",
        "        return math.pi*self.__radius**2\n",
        "    def computePerimetre(self):\n",
        "        return 2*math.pi*self.__radius\n",
        "    def getRadius(self):\n",
        "        return self.__radius\n",
        "    def setRadius(self, r):\n",
        "        self.__radius = r\n",
        "        \n",
        "    "
      ]
    },
    {
      "cell_type": "code",
      "execution_count": null,
      "id": "79562c09",
      "metadata": {
        "id": "79562c09"
      },
      "outputs": [],
      "source": [
        "circle1 = Circle(15)\n"
      ]
    },
    {
      "cell_type": "code",
      "execution_count": null,
      "id": "3a96f3fd",
      "metadata": {
        "id": "3a96f3fd",
        "outputId": "8362f2bd-32dc-4364-902b-bb9aa5c51a3f"
      },
      "outputs": [
        {
          "name": "stdout",
          "output_type": "stream",
          "text": [
            "The area of the cirlce:  706.8583470577034\n"
          ]
        }
      ],
      "source": [
        "\n",
        "print(\"The area of the cirlce: \", circle1.computeArea())"
      ]
    },
    {
      "cell_type": "code",
      "execution_count": null,
      "id": "d0b2cbea",
      "metadata": {
        "id": "d0b2cbea",
        "outputId": "b8f991e3-b02e-4835-da83-2fcef5228a51"
      },
      "outputs": [
        {
          "name": "stdout",
          "output_type": "stream",
          "text": [
            "The perimetre of the cirlce:  94.24777960769379\n"
          ]
        }
      ],
      "source": [
        "print(\"The perimetre of the cirlce: \", circle1.computePerimetre())"
      ]
    },
    {
      "cell_type": "code",
      "execution_count": null,
      "id": "d19edf22",
      "metadata": {
        "id": "d19edf22",
        "outputId": "82e9ffb6-56d5-480b-adeb-42beea9ac57d"
      },
      "outputs": [
        {
          "data": {
            "text/plain": [
              "15"
            ]
          },
          "execution_count": 27,
          "metadata": {},
          "output_type": "execute_result"
        }
      ],
      "source": [
        "circle1.getRadius()"
      ]
    },
    {
      "cell_type": "code",
      "execution_count": null,
      "id": "cc865d40",
      "metadata": {
        "id": "cc865d40"
      },
      "outputs": [],
      "source": [
        "circle1.setRadius(20)"
      ]
    },
    {
      "cell_type": "code",
      "execution_count": null,
      "id": "ffd4834d",
      "metadata": {
        "id": "ffd4834d",
        "outputId": "a754997c-4255-40f4-8f86-922057e6a932"
      },
      "outputs": [
        {
          "name": "stdout",
          "output_type": "stream",
          "text": [
            "The perimetre of the cirlce:  125.66370614359172\n"
          ]
        }
      ],
      "source": [
        "print(\"The perimetre of the cirlce: \", circle1.computePerimetre())"
      ]
    },
    {
      "cell_type": "code",
      "execution_count": null,
      "id": "ab1d3e21",
      "metadata": {
        "id": "ab1d3e21",
        "outputId": "3a8431f8-18b6-41ef-8ec8-14319992c912"
      },
      "outputs": [
        {
          "data": {
            "text/plain": [
              "20"
            ]
          },
          "execution_count": 30,
          "metadata": {},
          "output_type": "execute_result"
        }
      ],
      "source": [
        "circle1.getRadius()"
      ]
    },
    {
      "cell_type": "code",
      "execution_count": null,
      "id": "82ba4691",
      "metadata": {
        "id": "82ba4691"
      },
      "outputs": [],
      "source": [
        "class Sphere:\n",
        "    def __init__(self, radius):\n",
        "        self.__radius = radius\n",
        "    def computeArea(self):\n",
        "        return 4 * math.pi*self.__radius**2\n",
        "    def computeVolume(self):\n",
        "        return (4/3)*math.pi*self.__radius**3\n",
        "    def getRadius(self):\n",
        "        return self.__radius\n",
        "    def setRadius(self, radius):\n",
        "        self.__radius = radius\n",
        "        "
      ]
    },
    {
      "cell_type": "code",
      "execution_count": null,
      "id": "a2039ad6",
      "metadata": {
        "id": "a2039ad6"
      },
      "outputs": [],
      "source": [
        "s1 = Sphere(10)"
      ]
    },
    {
      "cell_type": "code",
      "execution_count": null,
      "id": "6bcc4fa1",
      "metadata": {
        "id": "6bcc4fa1",
        "outputId": "cb649306-82e1-42ea-faf0-325725dd9aee"
      },
      "outputs": [
        {
          "data": {
            "text/plain": [
              "1256.6370614359173"
            ]
          },
          "execution_count": 39,
          "metadata": {},
          "output_type": "execute_result"
        }
      ],
      "source": [
        "s1.computeArea()"
      ]
    },
    {
      "cell_type": "code",
      "execution_count": null,
      "id": "67534724",
      "metadata": {
        "id": "67534724",
        "outputId": "32e81072-52fd-44a9-ee53-06608324cf39"
      },
      "outputs": [
        {
          "data": {
            "text/plain": [
              "4188.790204786391"
            ]
          },
          "execution_count": 40,
          "metadata": {},
          "output_type": "execute_result"
        }
      ],
      "source": [
        "s1.computeVolume()"
      ]
    },
    {
      "cell_type": "code",
      "execution_count": 9,
      "id": "49a32614",
      "metadata": {
        "colab": {
          "base_uri": "https://localhost:8080/"
        },
        "id": "49a32614",
        "outputId": "6d93e546-27b0-49b6-9a5d-741a60df9be0"
      },
      "outputs": [
        {
          "output_type": "stream",
          "name": "stdout",
          "text": [
            "Area and Perimeter of R1 is:  3000 and -20\n",
            "Area and Perimeter of R2 is:  861.65 and -162.4\n"
          ]
        }
      ],
      "source": [
        "#Rectangle Class\n",
        "class Rectangle:\n",
        "      def __init__(self, width = 5,height = 10):\n",
        "        self.width = width\n",
        "        self.height = height\n",
        "      def computeArea(self):\n",
        "        return self.width * self.height\n",
        "      def computePerimeter(self):\n",
        "        return 2*(self.width - self.height)\n",
        "      def setWidth(self,width):\n",
        "        self.width = width\n",
        "      def setHeight(self,height):\n",
        "        self.height = height\n",
        "R1 = Rectangle(50,60)\n",
        "R2 = Rectangle(9.5,90.7)\n",
        "\n",
        "print('Area and Perimeter of R1 is: ', R1.computeArea(), 'and', R1.computePerimeter())\n",
        "print('Area and Perimeter of R2 is: ', R2.computeArea(), 'and', R2.computePerimeter())\n",
        "\n",
        "\n"
      ]
    }
  ],
  "metadata": {
    "kernelspec": {
      "display_name": "Python 3 (ipykernel)",
      "language": "python",
      "name": "python3"
    },
    "language_info": {
      "codemirror_mode": {
        "name": "ipython",
        "version": 3
      },
      "file_extension": ".py",
      "mimetype": "text/x-python",
      "name": "python",
      "nbconvert_exporter": "python",
      "pygments_lexer": "ipython3",
      "version": "3.9.12"
    },
    "colab": {
      "provenance": [],
      "include_colab_link": true
    }
  },
  "nbformat": 4,
  "nbformat_minor": 5
}